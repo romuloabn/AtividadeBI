{
  "nbformat": 4,
  "nbformat_minor": 0,
  "metadata": {
    "colab": {
      "provenance": []
    },
    "kernelspec": {
      "name": "python3",
      "display_name": "Python 3"
    },
    "language_info": {
      "name": "python"
    }
  },
  "cells": [
    {
      "cell_type": "code",
      "execution_count": 39,
      "metadata": {
        "colab": {
          "base_uri": "https://localhost:8080/"
        },
        "id": "0is31MJIVDBt",
        "outputId": "3452e21a-329f-4017-b17e-ae66662e6200"
      },
      "outputs": [
        {
          "output_type": "stream",
          "name": "stdout",
          "text": [
            "Extraindo o ano 2019\n"
          ]
        },
        {
          "output_type": "stream",
          "name": "stderr",
          "text": [
            "<ipython-input-39-7dd9dff21761>:25: FutureWarning: Passing literal html to 'read_html' is deprecated and will be removed in a future version. To read from a literal string, wrap it in a 'StringIO' object.\n",
            "  df = pd.read_html(str(tabela))[0][colunas]\n"
          ]
        },
        {
          "output_type": "stream",
          "name": "stdout",
          "text": [
            "Extraindo o ano 2020\n"
          ]
        },
        {
          "output_type": "stream",
          "name": "stderr",
          "text": [
            "<ipython-input-39-7dd9dff21761>:25: FutureWarning: Passing literal html to 'read_html' is deprecated and will be removed in a future version. To read from a literal string, wrap it in a 'StringIO' object.\n",
            "  df = pd.read_html(str(tabela))[0][colunas]\n",
            "<ipython-input-39-7dd9dff21761>:25: FutureWarning: Passing literal html to 'read_html' is deprecated and will be removed in a future version. To read from a literal string, wrap it in a 'StringIO' object.\n",
            "  df = pd.read_html(str(tabela))[0][colunas]\n"
          ]
        },
        {
          "output_type": "stream",
          "name": "stdout",
          "text": [
            "Extraindo o ano 2021\n",
            "Extraindo o ano 2022\n",
            "Extraindo o ano 2023\n"
          ]
        },
        {
          "output_type": "stream",
          "name": "stderr",
          "text": [
            "<ipython-input-39-7dd9dff21761>:25: FutureWarning: Passing literal html to 'read_html' is deprecated and will be removed in a future version. To read from a literal string, wrap it in a 'StringIO' object.\n",
            "  df = pd.read_html(str(tabela))[0][colunas]\n"
          ]
        },
        {
          "output_type": "stream",
          "name": "stdout",
          "text": [
            "                       Tm  BatAge   R/G     G  year\n",
            "0    Arizona Diamondbacks    28.7  5.02   162  2019\n",
            "1          Atlanta Braves    28.0  5.28   162  2019\n",
            "2       Baltimore Orioles    26.5  4.50   162  2019\n",
            "3          Boston Red Sox    27.3  5.56   162  2019\n",
            "4            Chicago Cubs    27.7  5.02   162  2019\n",
            "..                    ...     ...   ...   ...   ...\n",
            "160     Toronto Blue Jays    28.8  4.60   162  2023\n",
            "161  Washington Nationals    26.8  4.32   162  2023\n",
            "162        League Average    28.0  4.62   162  2023\n",
            "163                    Tm  BatAge   R/G     G  2023\n",
            "164                   NaN    28.0  4.62  4860  2023\n",
            "\n",
            "[165 rows x 5 columns]\n"
          ]
        },
        {
          "output_type": "stream",
          "name": "stderr",
          "text": [
            "<ipython-input-39-7dd9dff21761>:25: FutureWarning: Passing literal html to 'read_html' is deprecated and will be removed in a future version. To read from a literal string, wrap it in a 'StringIO' object.\n",
            "  df = pd.read_html(str(tabela))[0][colunas]\n"
          ]
        }
      ],
      "source": [
        "import pandas as pd\n",
        "import requests\n",
        "from bs4 import BeautifulSoup\n",
        "\n",
        "#Funcao das estatísticas\n",
        "\n",
        "def busca_stats (url, inicio, fim, colocacoes):\n",
        "\n",
        "  periodo = range(inicio, fim + 1)\n",
        "\n",
        "\n",
        "  dfs = []\n",
        "\n",
        "  for ano in periodo:\n",
        "    print('Extraindo o ano {}'.format(ano))\n",
        "\n",
        "    url_req = url.format(ano)\n",
        "    pag = requests.get(url_req)\n",
        "\n",
        "    soup = BeautifulSoup(pag.content, 'html.parser')\n",
        "    tabela = soup.find(name='table')\n",
        "\n",
        "    colunas = ['Tm','BatAge'] + colocacoes\n",
        "\n",
        "    df = pd.read_html(str(tabela))[0][colunas]\n",
        "    df['year'] = ano\n",
        "\n",
        "    dfs.append(df)\n",
        "\n",
        "  final_df = pd.concat(dfs, ignore_index=True)\n",
        "\n",
        "  return final_df\n",
        "\n",
        "\n",
        "# Corpo principal do programa\n",
        "\n",
        "url = 'https://www.baseball-reference.com/leagues/majors/{}.shtml'\n",
        "\n",
        "inicio = 2019\n",
        "fim = 2023\n",
        "info_especificas = ['R/G', 'G']\n",
        "\n",
        "df = busca_stats (url, inicio, fim, info_especificas)\n",
        "print(df)\n",
        "\n",
        "df.to_csv('stats_mjl.csv', index=False)\n",
        "\n",
        "arquivo = 'stats_mjl.csv'\n",
        "\n",
        "df.to_csv(arquivo, index=False)"
      ]
    }
  ]
}